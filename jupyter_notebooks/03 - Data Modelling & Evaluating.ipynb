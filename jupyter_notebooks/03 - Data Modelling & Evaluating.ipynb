{
 "cells": [
  {
   "cell_type": "markdown",
   "id": "7c688cf9",
   "metadata": {},
   "source": [
    "# **Data Modelling and Evaluation**\n",
    "---"
   ]
  },
  {
   "cell_type": "markdown",
   "id": "09c6e322",
   "metadata": {},
   "source": [
    "## Objectives\n",
    "\n",
    "* Answer Business Requirement 2 & 3:\n",
    "  * We will create and fit an ML model to predict if a leaf is healthy or infected with powdery mildew. This will be a binary classification task as there are only 2 categories to identify.\n",
    "  * We want to generate reports of the model that is accessible to all users so that the data can be interpreted and understood.\n",
    "\n",
    "## Inputs\n",
    "\n",
    "* inputs/cherry_leaves_dataset/cherry-leaves/train\n",
    "* inputs/cherry_leaves_dataset/cherry-leaves/validation\n",
    "* inputs/cherry_leaves_dataset/cherry-leaves/test\n",
    "* Image Shape Embeddings\n",
    "\n",
    "## Outputs\n",
    "\n",
    "* Plot distribution of images in train, validation and test sets\n",
    "* Image augmentation\n",
    "* Class indices to change prediction inference in labels\n",
    "* Build ML Model and train it\n",
    "* Save model\n",
    "* Plot a learning curve for model performance\n",
    "* Model evaluation on pickle file\n",
    "* Prediction on the random image file\n",
    "\n",
    "## Additional Comments\n",
    "\n",
    "* No comments\n",
    "---"
   ]
  },
  {
   "cell_type": "markdown",
   "id": "b9891f4b",
   "metadata": {},
   "source": [
    "### Import Packages"
   ]
  },
  {
   "cell_type": "code",
   "execution_count": 2,
   "id": "068410ba",
   "metadata": {},
   "outputs": [],
   "source": [
    "import os\n",
    "import pandas as pd\n",
    "import numpy as np\n",
    "import matplotlib.pyplot as plt\n",
    "import seaborn as sns\n",
    "from matplotlib.image import imread"
   ]
  },
  {
   "cell_type": "markdown",
   "id": "169fa447",
   "metadata": {},
   "source": [
    "### Set working directory"
   ]
  },
  {
   "cell_type": "code",
   "execution_count": 3,
   "id": "d70c1538",
   "metadata": {},
   "outputs": [
    {
     "data": {
      "text/plain": [
       "'/workspaces/mildew-detection-in-cherry-leaves-p5/jupyter_notebooks'"
      ]
     },
     "execution_count": 3,
     "metadata": {},
     "output_type": "execute_result"
    }
   ],
   "source": [
    "current_dir = os.getcwd()\n",
    "current_dir"
   ]
  },
  {
   "cell_type": "code",
   "execution_count": 4,
   "id": "cf4dce74",
   "metadata": {},
   "outputs": [
    {
     "name": "stdout",
     "output_type": "stream",
     "text": [
      "You set a new current directory\n"
     ]
    }
   ],
   "source": [
    "os.chdir('/workspaces/mildew-detection-in-cherry-leaves-p5')\n",
    "print('You set a new current directory')"
   ]
  },
  {
   "cell_type": "code",
   "execution_count": 5,
   "id": "9ebe6a39",
   "metadata": {},
   "outputs": [
    {
     "data": {
      "text/plain": [
       "'/workspaces/mildew-detection-in-cherry-leaves-p5'"
      ]
     },
     "execution_count": 5,
     "metadata": {},
     "output_type": "execute_result"
    }
   ],
   "source": [
    "current_dir = os.getcwd()\n",
    "current_dir"
   ]
  },
  {
   "cell_type": "markdown",
   "id": "fc4aa66a",
   "metadata": {},
   "source": [
    "### Set input directories"
   ]
  },
  {
   "cell_type": "code",
   "execution_count": 6,
   "id": "e0248d3f",
   "metadata": {},
   "outputs": [],
   "source": [
    "my_data_dir = current_dir + '/' + 'inputs/cherry_leaves_dataset/cherry-leaves'\n",
    "train_path = my_data_dir + '/train'\n",
    "val_path = my_data_dir + '/validation'\n",
    "test_path = my_data_dir + '/test'"
   ]
  },
  {
   "cell_type": "markdown",
   "id": "3c75d857",
   "metadata": {},
   "source": [
    "### Set output directories"
   ]
  },
  {
   "cell_type": "code",
   "execution_count": 7,
   "id": "16456c6c",
   "metadata": {},
   "outputs": [
    {
     "name": "stdout",
     "output_type": "stream",
     "text": [
      "Old version is already available. Create a new version.\n"
     ]
    }
   ],
   "source": [
    "version = 'v1'\n",
    "file_path = f'outputs/{version}'\n",
    "\n",
    "# Checks to see if a specified version already exists in the outputs folder in the workspace\n",
    "if 'outputs' in os.listdir(current_dir) and version in os.listdir(current_dir + '/outputs'):\n",
    "    print('Old version is already available. Create a new version.')\n",
    "    pass\n",
    "else:\n",
    "    os.makedirs(name=file_path)"
   ]
  },
  {
   "cell_type": "markdown",
   "id": "b182e160",
   "metadata": {},
   "source": [
    "### Set Labels"
   ]
  },
  {
   "cell_type": "code",
   "execution_count": 8,
   "id": "d386274b",
   "metadata": {},
   "outputs": [
    {
     "name": "stdout",
     "output_type": "stream",
     "text": [
      "The labels for the images are: ['healthy', 'powdery_mildew']\n"
     ]
    }
   ],
   "source": [
    "# Set the labels for the images\n",
    "labels = os.listdir(train_path)\n",
    "print('The labels for the images are:', labels)"
   ]
  },
  {
   "cell_type": "markdown",
   "id": "c35d5d74",
   "metadata": {},
   "source": [
    "### Set Image Shape"
   ]
  },
  {
   "cell_type": "code",
   "execution_count": 10,
   "id": "e56ee0f6",
   "metadata": {},
   "outputs": [
    {
     "data": {
      "text/plain": [
       "(256, 256, 3)"
      ]
     },
     "execution_count": 10,
     "metadata": {},
     "output_type": "execute_result"
    }
   ],
   "source": [
    "# Import saved image shape embedding\n",
    "import joblib\n",
    "\n",
    "version = 'v1'\n",
    "img_shape = joblib.load(filename=f\"outputs/{version}/img_shape.pkl\")\n",
    "img_shape"
   ]
  }
 ],
 "metadata": {
  "kernelspec": {
   "display_name": "3.12.1",
   "language": "python",
   "name": "python3"
  },
  "language_info": {
   "codemirror_mode": {
    "name": "ipython",
    "version": 3
   },
   "file_extension": ".py",
   "mimetype": "text/x-python",
   "name": "python",
   "nbconvert_exporter": "python",
   "pygments_lexer": "ipython3",
   "version": "3.12.1"
  }
 },
 "nbformat": 4,
 "nbformat_minor": 5
}
