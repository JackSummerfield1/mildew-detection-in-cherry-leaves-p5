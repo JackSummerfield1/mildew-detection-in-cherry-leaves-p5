{
 "cells": [
  {
   "cell_type": "markdown",
   "id": "49d39fbf",
   "metadata": {},
   "source": [
    "# **Data Collection**\n",
    "---"
   ]
  },
  {
   "cell_type": "markdown",
   "id": "380615a3",
   "metadata": {},
   "source": [
    "## Objectives\n",
    "\n",
    "* Answer Business Requirement 1:\n",
    "  * The client is interested in conducting a study to visually differentiate a healthy cherry leaf from one with powdery mildew.\n",
    "\n",
    "## Inputs\n",
    "\n",
    "* inputs/cherry_leaves_dataset/cherry-leaves/train\n",
    "* inputs/cherry_leaves_dataset/cherry-leaves/validation\n",
    "* inputs/cherry_leaves_dataset/cherry-leaves/test\n",
    "\n",
    "## Outputs\n",
    "\n",
    "* Image shape embeddings pickle file\n",
    "* Mean and variability of images per label plot\n",
    "* Plot to distinguish contrast between healthy and powdery mildew-infected cherry leaves.\n",
    "* Generate code to answer business requirement 1 and can be used to build a gallery of images on the Streamlit dashboard\n",
    "\n",
    "## Additional Comments\n",
    "\n",
    "* No comments\n",
    "---"
   ]
  },
  {
   "cell_type": "markdown",
   "id": "266e032e",
   "metadata": {},
   "source": [
    "## **Set Data Directory**\n",
    "---\n",
    "### Import Libraries"
   ]
  },
  {
   "cell_type": "code",
   "execution_count": 1,
   "id": "d846599f",
   "metadata": {},
   "outputs": [],
   "source": [
    "import os\n",
    "import pandas as pd\n",
    "import numpy as np\n",
    "import matplotlib.pyplot as plt\n",
    "import seaborn as sns\n",
    "import joblib\n",
    "sns.set_style(\"white\")\n",
    "from matplotlib.image import imread"
   ]
  },
  {
   "cell_type": "markdown",
   "id": "9d116477",
   "metadata": {},
   "source": [
    "### Set working directory"
   ]
  },
  {
   "cell_type": "code",
   "execution_count": null,
   "id": "54a89628",
   "metadata": {},
   "outputs": [
    {
     "data": {
      "text/plain": [
       "'/workspaces/mildew-detection-in-cherry-leaves-p5/jupyter_notebooks'"
      ]
     },
     "execution_count": 2,
     "metadata": {},
     "output_type": "execute_result"
    }
   ],
   "source": [
    "current_dir = os.getcwd()\n",
    "current_dir"
   ]
  },
  {
   "cell_type": "code",
   "execution_count": 4,
   "id": "8432f208",
   "metadata": {},
   "outputs": [
    {
     "name": "stdout",
     "output_type": "stream",
     "text": [
      "You set a new current directory\n"
     ]
    }
   ],
   "source": [
    "os.chdir('/workspaces/mildew-detection-in-cherry-leaves-p5')\n",
    "print('You set a new current directory')"
   ]
  },
  {
   "cell_type": "code",
   "execution_count": 6,
   "id": "a5fe22dc",
   "metadata": {},
   "outputs": [
    {
     "data": {
      "text/plain": [
       "'/workspaces/mildew-detection-in-cherry-leaves-p5'"
      ]
     },
     "execution_count": 6,
     "metadata": {},
     "output_type": "execute_result"
    }
   ],
   "source": [
    "current_dir = os.getcwd()\n",
    "current_dir"
   ]
  },
  {
   "cell_type": "markdown",
   "id": "4d521c49",
   "metadata": {},
   "source": []
  }
 ],
 "metadata": {
  "kernelspec": {
   "display_name": "3.12.1",
   "language": "python",
   "name": "python3"
  },
  "language_info": {
   "codemirror_mode": {
    "name": "ipython",
    "version": 3
   },
   "file_extension": ".py",
   "mimetype": "text/x-python",
   "name": "python",
   "nbconvert_exporter": "python",
   "pygments_lexer": "ipython3",
   "version": "3.12.1"
  }
 },
 "nbformat": 4,
 "nbformat_minor": 5
}
