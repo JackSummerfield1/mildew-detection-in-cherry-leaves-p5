{
 "cells": [
  {
   "cell_type": "markdown",
   "id": "49d39fbf",
   "metadata": {},
   "source": [
    "# **Data Collection**\n",
    "---"
   ]
  },
  {
   "cell_type": "markdown",
   "id": "380615a3",
   "metadata": {},
   "source": [
    "## Objectives\n",
    "\n",
    "* Answer Business Requirement 1:\n",
    "  * The client is interested in conducting a study to visually differentiate a healthy cherry leaf from one with powdery mildew.\n",
    "\n",
    "## Inputs\n",
    "\n",
    "* inputs/cherry_leaves_dataset/cherry-leaves/train\n",
    "* inputs/cherry_leaves_dataset/cherry-leaves/validation\n",
    "* inputs/cherry_leaves_dataset/cherry-leaves/test\n",
    "\n",
    "## Outputs\n",
    "\n",
    "* Image shape embeddings pickle file\n",
    "* Mean and variability of images per label plot\n",
    "* Plot to distinguish contrast between healthy and powdery mildew-infected cherry leaves.\n",
    "* Generate code to answer business requirement 1 and can be used to build a gallery of images on the Streamlit dashboard\n",
    "\n",
    "## Additional Comments\n",
    "\n",
    "* No comments\n",
    "---"
   ]
  },
  {
   "cell_type": "markdown",
   "id": "266e032e",
   "metadata": {},
   "source": [
    "## **Set Data Directory**\n",
    "---\n",
    "### Import Libraries"
   ]
  },
  {
   "cell_type": "code",
   "execution_count": 1,
   "id": "d846599f",
   "metadata": {},
   "outputs": [],
   "source": [
    "import os\n",
    "import pandas as pd\n",
    "import numpy as np\n",
    "import matplotlib.pyplot as plt\n",
    "import seaborn as sns\n",
    "import joblib\n",
    "sns.set_style(\"white\")\n",
    "from matplotlib.image import imread"
   ]
  },
  {
   "cell_type": "markdown",
   "id": "9d116477",
   "metadata": {},
   "source": [
    "### Set working directory"
   ]
  },
  {
   "cell_type": "code",
   "execution_count": null,
   "id": "54a89628",
   "metadata": {},
   "outputs": [
    {
     "data": {
      "text/plain": [
       "'/workspaces/mildew-detection-in-cherry-leaves-p5/jupyter_notebooks'"
      ]
     },
     "execution_count": 2,
     "metadata": {},
     "output_type": "execute_result"
    }
   ],
   "source": [
    "current_dir = os.getcwd()\n",
    "current_dir"
   ]
  },
  {
   "cell_type": "code",
   "execution_count": 4,
   "id": "8432f208",
   "metadata": {},
   "outputs": [
    {
     "name": "stdout",
     "output_type": "stream",
     "text": [
      "You set a new current directory\n"
     ]
    }
   ],
   "source": [
    "os.chdir('/workspaces/mildew-detection-in-cherry-leaves-p5')\n",
    "print('You set a new current directory')"
   ]
  },
  {
   "cell_type": "code",
   "execution_count": 6,
   "id": "a5fe22dc",
   "metadata": {},
   "outputs": [
    {
     "data": {
      "text/plain": [
       "'/workspaces/mildew-detection-in-cherry-leaves-p5'"
      ]
     },
     "execution_count": 6,
     "metadata": {},
     "output_type": "execute_result"
    }
   ],
   "source": [
    "current_dir = os.getcwd()\n",
    "current_dir"
   ]
  },
  {
   "cell_type": "markdown",
   "id": "8630e0b3",
   "metadata": {},
   "source": [
    "### Set input directories"
   ]
  },
  {
   "cell_type": "code",
   "execution_count": 7,
   "id": "94525335",
   "metadata": {},
   "outputs": [],
   "source": [
    "my_data_dir = 'inputs/cherry_leaves_dataset/cherry-leaves'\n",
    "train_path = my_data_dir + '/train'\n",
    "val_path = my_data_dir + '/validation'\n",
    "test_path = my_data_dir + '/test'"
   ]
  },
  {
   "cell_type": "markdown",
   "id": "210ab5fe",
   "metadata": {},
   "source": [
    "### Set output directory"
   ]
  },
  {
   "cell_type": "code",
   "execution_count": 8,
   "id": "d7dd70a4",
   "metadata": {},
   "outputs": [],
   "source": [
    "version = 'v1'\n",
    "file_path = f'outputs/{version}'\n",
    "\n",
    "# Checks to see if a specified version already exists in the outputs folder in the workspace\n",
    "if 'outputs' in os.listdir(current_dir) and version in os.listdir(current_dir + '/outputs'):\n",
    "    print('Old version is already available. Create a new version.')\n",
    "    pass\n",
    "else:\n",
    "    os.makedirs(name=file_path)"
   ]
  },
  {
   "cell_type": "markdown",
   "id": "ffae583d",
   "metadata": {},
   "source": [
    "### Set the label names"
   ]
  },
  {
   "cell_type": "code",
   "execution_count": 9,
   "id": "4dac4b49",
   "metadata": {},
   "outputs": [
    {
     "name": "stdout",
     "output_type": "stream",
     "text": [
      "Label for the images are ['healthy', 'powdery_mildew']\n"
     ]
    }
   ],
   "source": [
    "labels = os.listdir(train_path)\n",
    "print('Label for the images are', labels)"
   ]
  },
  {
   "cell_type": "markdown",
   "id": "98e8d5de",
   "metadata": {},
   "source": [
    "## **Data Visualisation of Image Data**\n",
    "---"
   ]
  },
  {
   "cell_type": "markdown",
   "id": "73746e4c",
   "metadata": {},
   "source": [
    "### Image Shape\n",
    "\n",
    "Calculate the mean dimensions of the images in the train set"
   ]
  },
  {
   "cell_type": "code",
   "execution_count": null,
   "id": "f15d1643",
   "metadata": {},
   "outputs": [],
   "source": [
    "# Arrays that store the height and widths of each image\n",
    "dim1, dim2 = [], []\n",
    "\n",
    "# Loop through each label (healthy, powdery_mildew)\n",
    "for label in labels:\n",
    "    # Loop through each img in both categories\n",
    "    for image_filename in os.listdir(train_path + '/' + label):\n",
    "        img = imread(train_path + '/' + label + '/' + image_filename)\n",
    "        \n",
    "        # Gather the dimensions of each img\n",
    "        d1, d2, colors = img.shape\n",
    "\n",
    "        dim1.append(d1)  # image height\n",
    "        dim2.append(d2)  # image width"
   ]
  }
 ],
 "metadata": {
  "kernelspec": {
   "display_name": "3.12.1",
   "language": "python",
   "name": "python3"
  },
  "language_info": {
   "codemirror_mode": {
    "name": "ipython",
    "version": 3
   },
   "file_extension": ".py",
   "mimetype": "text/x-python",
   "name": "python",
   "nbconvert_exporter": "python",
   "pygments_lexer": "ipython3",
   "version": "3.12.1"
  }
 },
 "nbformat": 4,
 "nbformat_minor": 5
}
