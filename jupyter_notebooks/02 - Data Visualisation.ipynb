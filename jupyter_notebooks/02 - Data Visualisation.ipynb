{
 "cells": [
  {
   "cell_type": "markdown",
   "id": "49d39fbf",
   "metadata": {},
   "source": [
    "# **Data Collection**\n",
    "---"
   ]
  },
  {
   "cell_type": "markdown",
   "id": "380615a3",
   "metadata": {},
   "source": [
    "## Objectives\n",
    "\n",
    "* Answer Business Requirement 1:\n",
    "  * The client is interested in conducting a study to visually differentiate a healthy cherry leaf from one with powdery mildew.\n",
    "\n",
    "## Inputs\n",
    "\n",
    "* inputs/cherry_leaves_dataset/cherry-leaves/train\n",
    "* inputs/cherry_leaves_dataset/cherry-leaves/validation\n",
    "* inputs/cherry_leaves_dataset/cherry-leaves/test\n",
    "\n",
    "## Outputs\n",
    "\n",
    "* Image shape embeddings pickle file\n",
    "* Mean and variability of images per label plot\n",
    "* Plot to distinguish contrast between healthy and powdery mildew-infected cherry leaves.\n",
    "* Generate code to answer business requirement 1 and can be used to build a gallery of images on the Streamlit dashboard\n",
    "\n",
    "## Additional Comments\n",
    "\n",
    "* No comments\n",
    "---"
   ]
  },
  {
   "cell_type": "markdown",
   "id": "aed7479e",
   "metadata": {},
   "source": []
  }
 ],
 "metadata": {
  "language_info": {
   "name": "python"
  }
 },
 "nbformat": 4,
 "nbformat_minor": 5
}
